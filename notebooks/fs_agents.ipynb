{
 "cells": [
  {
   "cell_type": "code",
   "execution_count": 30,
   "metadata": {},
   "outputs": [],
   "source": [
    "import agentpy as ap\n",
    "from owlready2 import *\n",
    "from ultralytics import YOLO\n",
    "import json"
   ]
  },
  {
   "cell_type": "code",
   "execution_count": 31,
   "metadata": {},
   "outputs": [],
   "source": [
    "# Crear un nuevo archivo de ontología en memoria\n",
    "onto = get_ontology(\"http://example.org/onto.owl\")\n",
    "\n",
    "with onto:\n",
    "    class KnownObject(Thing):\n",
    "        pass\n",
    "\n",
    "    class SuspiciousObject(KnownObject):\n",
    "        pass\n",
    "\n",
    "    class SafeObject(KnownObject):\n",
    "        pass\n",
    "\n",
    "# Añadir ejemplos a la ontología\n",
    "car = SafeObject(\"car\")\n",
    "toilet = SafeObject(\"toilet\")\n",
    "traffic = SuspiciousObject(\"traffic light\")\n",
    "\n",
    "onto.save(file=\"ontology.owl\")\n"
   ]
  },
  {
   "cell_type": "code",
   "execution_count": 32,
   "metadata": {},
   "outputs": [],
   "source": [
    "class CameraAgent(ap.Agent):\n",
    "    \n",
    "    def setup(self):\n",
    "        self.safe_objects = set()  # Conjunto para objetos seguros\n",
    "        self.suspicious_objects = set()  # Conjunto para objetos sospechosos\n",
    "        self.load_ontology()\n",
    "        self.model = YOLO(\"yolov8s.pt\")  # Cargar el modelo YOLO solo una vez\n",
    "    \n",
    "    def load_ontology(self):\n",
    "        # Cargar la ontología creada\n",
    "        self.ontology = get_ontology(\"ontology.owl\").load()\n",
    "        for obj in self.ontology.SafeObject.instances():\n",
    "            self.safe_objects.add(obj.name)\n",
    "        for obj in self.ontology.SuspiciousObject.instances():\n",
    "            self.suspicious_objects.add(obj.name)\n",
    "    \n",
    "    def detect_objects(self, image_path):\n",
    "        \"\"\" Método para procesar objetos detectados \"\"\"\n",
    "        # Cargar y procesar la imagen usando el modelo YOLO\n",
    "        results = self.model(image_path)\n",
    "        \n",
    "        # Extraer objetos detectados\n",
    "        detected_objects = []\n",
    "        json_result = results[0].tojson()\n",
    "        \n",
    "        json_result = json.loads(json_result)\n",
    "        print(type(json_result[0]))\n",
    "        print(json_result)\n",
    "        for obj in json_result:\n",
    "            detected_objects.append(obj[\"name\"])\n",
    "        \n",
    "        # Analizar los objetos detectados\n",
    "        suspicious_detected = []\n",
    "        for obj in detected_objects:\n",
    "            if obj in self.suspicious_objects:\n",
    "                suspicious_detected.append(obj)\n",
    "                print(f\"Alerta: Objeto sospechoso detectado - {obj}\")\n",
    "            elif obj in self.safe_objects:\n",
    "                print(f\"Objeto seguro detectado - {obj}\")\n",
    "            else:\n",
    "                suspicious_detected.append(obj)\n",
    "                print(f\"Alerta: Objeto desconocido detectado - {obj}\")\n",
    "        \n",
    "        return suspicious_detected"
   ]
  },
  {
   "cell_type": "code",
   "execution_count": 33,
   "metadata": {},
   "outputs": [],
   "source": [
    "class MyModel(ap.Model):\n",
    "\n",
    "    def setup(self):\n",
    "        # Called at the start of the simulation\n",
    "        #self.agents = ap.AgentList(self, self.p.agents, CameraAgent)\n",
    "        pass"
   ]
  },
  {
   "cell_type": "code",
   "execution_count": 34,
   "metadata": {},
   "outputs": [
    {
     "name": "stdout",
     "output_type": "stream",
     "text": [
      "\n",
      "image 1/1 c:\\Users\\phere\\Documents\\TEC\\5toSemestre\\Reto_multiagentes\\aerial-drone-pov.jpg: 416x640 2 cars, 1 traffic light, 1 toilet, 185.5ms\n",
      "Speed: 2.0ms preprocess, 185.5ms inference, 2.0ms postprocess per image at shape (1, 3, 416, 640)\n",
      "<class 'dict'>\n",
      "[{'name': 'car', 'class': 2, 'confidence': 0.57702, 'box': {'x1': 223.9494, 'y1': 33.70423, 'x2': 253.50323, 'y2': 63.26784}}, {'name': 'toilet', 'class': 61, 'confidence': 0.33642, 'box': {'x1': 30.94511, 'y1': 0.31304, 'x2': 608.98364, 'y2': 383.96381}}, {'name': 'car', 'class': 2, 'confidence': 0.31546, 'box': {'x1': 288.68121, 'y1': 0.09993, 'x2': 305.10846, 'y2': 14.2923}}, {'name': 'traffic light', 'class': 9, 'confidence': 0.29761, 'box': {'x1': 135.03931, 'y1': 106.3971, 'x2': 184.41, 'y2': 187.78621}}]\n",
      "Objeto seguro detectado - car\n",
      "Objeto seguro detectado - toilet\n",
      "Objeto seguro detectado - car\n",
      "Alerta: Objeto sospechoso detectado - traffic light\n",
      "Objetos sospechosos detectados: ['traffic light']\n"
     ]
    }
   ],
   "source": [
    "# Ejemplo de uso\n",
    "camera_agent = CameraAgent(MyModel())\n",
    "suspicious_objects = camera_agent.detect_objects(\"aerial-drone-pov.jpg\")\n",
    "print(f\"Objetos sospechosos detectados: {suspicious_objects}\")"
   ]
  }
 ],
 "metadata": {
  "kernelspec": {
   "display_name": "Python 3",
   "language": "python",
   "name": "python3"
  },
  "language_info": {
   "codemirror_mode": {
    "name": "ipython",
    "version": 3
   },
   "file_extension": ".py",
   "mimetype": "text/x-python",
   "name": "python",
   "nbconvert_exporter": "python",
   "pygments_lexer": "ipython3",
   "version": "3.10.7"
  }
 },
 "nbformat": 4,
 "nbformat_minor": 2
}
